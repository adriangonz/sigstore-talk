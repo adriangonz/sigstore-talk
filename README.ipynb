{
 "cells": [
  {
   "cell_type": "markdown",
   "id": "b23e7f79-36b4-45e3-90a9-f0124226b18a",
   "metadata": {},
   "source": [
    "# Sigstore Example\n",
    "\n",
    "This example is part of a talk in [Supply Chain Security for MLSecOps](https://docs.google.com/presentation/d/1O2JZHj2DzwzSbZZLqyPbUZ6QlMKf4V1QuRcq4ok9baI/edit). \n",
    "\n",
    "The example will cover the following steps:\n",
    "\n",
    "1. Training a simple Scikit-Learn model, serialising it with `joblib`.\n",
    "2. Signing our model, and verifying manually the signature.\n",
    "3. Implementing a [MLServer](https://mlserver.readthedocs.io/en/latest/) runtime which handles the verification during model load."
   ]
  },
  {
   "cell_type": "markdown",
   "id": "98098be0-4848-4dea-bbeb-401bd87e4963",
   "metadata": {},
   "source": [
    "## Training"
   ]
  },
  {
   "cell_type": "markdown",
   "id": "0fb1f1db-1059-4306-a659-8df6099974ee",
   "metadata": {},
   "source": [
    "The first step will be to train a simple `scikit-learn` model.\n",
    "For that, we will use the [MNIST example from the `scikit-learn` documentation](https://scikit-learn.org/stable/auto_examples/classification/plot_digits_classification.html) which trains an SVM model."
   ]
  },
  {
   "cell_type": "code",
   "execution_count": null,
   "id": "81a39c4d-f316-45c1-9361-425dada5544a",
   "metadata": {
    "tags": []
   },
   "outputs": [],
   "source": [
    "# Original source code and more details can be found in:\n",
    "# https://scikit-learn.org/stable/auto_examples/classification/plot_digits_classification.html\n",
    "\n",
    "# Import datasets, classifiers and performance metrics\n",
    "from sklearn import datasets, svm, metrics\n",
    "from sklearn.model_selection import train_test_split\n",
    "\n",
    "# The digits dataset\n",
    "digits = datasets.load_digits()\n",
    "\n",
    "# To apply a classifier on this data, we need to flatten the image, to\n",
    "# turn the data in a (samples, feature) matrix:\n",
    "n_samples = len(digits.images)\n",
    "data = digits.images.reshape((n_samples, -1))\n",
    "\n",
    "# Create a classifier: a support vector classifier\n",
    "classifier = svm.SVC(gamma=0.001)\n",
    "\n",
    "# Split data into train and test subsets\n",
    "X_train, X_test, y_train, y_test = train_test_split(\n",
    "    data, digits.target, test_size=0.5, shuffle=False)\n",
    "\n",
    "# We learn the digits on the first half of the digits\n",
    "classifier.fit(X_train, y_train)"
   ]
  },
  {
   "cell_type": "markdown",
   "id": "c613dd50-7d9f-41b3-8465-16c27a7566c7",
   "metadata": {},
   "source": [
    "### Saving our Trained Model"
   ]
  },
  {
   "cell_type": "markdown",
   "id": "46650922-cb72-4aae-a6d6-bda9bb059362",
   "metadata": {},
   "source": [
    "To save our trained model, we will serialise it using `joblib`.\n",
    "While this is not a perfect approach, it's currently the recommended method to persist models to disk in the [`scikit-learn` documentation](https://scikit-learn.org/stable/modules/model_persistence.html).\n",
    "\n",
    "Our model will be persisted as a file named `mnist-svm.joblib`"
   ]
  },
  {
   "cell_type": "code",
   "execution_count": null,
   "id": "d82e867d-1d34-4f8d-b569-bcbd980c5475",
   "metadata": {
    "tags": []
   },
   "outputs": [],
   "source": [
    "import joblib\n",
    "\n",
    "model_file_name = \"./models/good-model/model.joblib\"\n",
    "joblib.dump(classifier, model_file_name)"
   ]
  },
  {
   "cell_type": "code",
   "execution_count": null,
   "id": "c8882762-c9d1-4033-a2d9-cb111568ee14",
   "metadata": {
    "tags": []
   },
   "outputs": [],
   "source": [
    "open(model_file_name, 'rb').read()"
   ]
  },
  {
   "cell_type": "markdown",
   "id": "63d31c63-35a9-466e-a3e2-0faa52653e3a",
   "metadata": {
    "tags": []
   },
   "source": [
    "## Signing our Model\n",
    "\n",
    "Now that we have a model artefact, the next step will be to sign our binary.\n",
    "For this, we will use the [`sigstore` CLI](https://github.com/sigstore/sigstore-python), which will generate a set of files:\n",
    "\n",
    "- A *.crt certificate.\n",
    "- A *.sig signature.\n",
    "- A *.sigstore bundle, which combines both.\n",
    "\n",
    "Note that the signature also verifies that a particular ID was the one who created it. \n",
    "As ID, we will use our own Gmail account (which will be authenticated through Google's OIDC server ahead of creating the signature)."
   ]
  },
  {
   "cell_type": "code",
   "execution_count": null,
   "id": "7a11db4d-7752-4cbe-bded-f9ee2646355f",
   "metadata": {
    "tags": []
   },
   "outputs": [],
   "source": [
    "!sigstore sign --overwrite {model_file_name}"
   ]
  },
  {
   "cell_type": "code",
   "execution_count": null,
   "id": "d05217c4-a6d8-406a-bdc7-d80ad55b70e4",
   "metadata": {
    "tags": []
   },
   "outputs": [],
   "source": [
    "%ls ./models/good-model/model.joblib*"
   ]
  },
  {
   "cell_type": "markdown",
   "id": "2691c9c3-cf1d-44b7-9f69-d2f338e5e056",
   "metadata": {},
   "source": [
    "### Verifying Model's Signature\n",
    "\n",
    "To validate that the signature does what it should, we will try to use it manually to verify the identity for our artefact.\n",
    "As you can see, the `sigstore verify identity` command needs us to specify both our own identity, and the OIDC issuer for this identity (Google's in this case)."
   ]
  },
  {
   "cell_type": "code",
   "execution_count": null,
   "id": "1d6b1f3b-6b10-48c6-8c94-29e218f46511",
   "metadata": {
    "tags": []
   },
   "outputs": [],
   "source": [
    "!sigstore verify identity \\\n",
    "    --bundle {model_file_name}.sigstore  \\\n",
    "    --cert-identity agm@seldon.io  \\\n",
    "    --cert-oidc-issuer https://accounts.google.com \\\n",
    "    --offline \\\n",
    "    {model_file_name}"
   ]
  },
  {
   "cell_type": "markdown",
   "id": "e3845066-1f55-4a15-a14e-61ec9a4668b0",
   "metadata": {},
   "source": [
    "### Tampering our Trained Model\n",
    "\n",
    "To also validate that the signature detects if the file has been tampered with, we will manually inject a malicious pickle within our model artefact."
   ]
  },
  {
   "cell_type": "code",
   "execution_count": null,
   "id": "a84c32fe-d7fa-45f5-abd3-5b5e1e9ce6af",
   "metadata": {
    "tags": []
   },
   "outputs": [],
   "source": [
    "!cp ./models/good-model/model.joblib* ./models/tampered-model/"
   ]
  },
  {
   "cell_type": "code",
   "execution_count": null,
   "id": "05c4a572-2026-4bdb-bab3-445f5f0e6f72",
   "metadata": {
    "tags": []
   },
   "outputs": [],
   "source": [
    "tampered_file_name = \"./models/tampered-model/model.joblib\"\n",
    "pwnd_pickle = b'\\x80\\x04\\x95)\\x00\\x00\\x00\\x00\\x00\\x00\\x00\\x8c\\x05posix\\x94\\x8c\\x06system\\x94\\x93\\x94\\x8c\\x0eenv > pwnd.txt\\x94\\x85\\x94R\\x94.'\n",
    "with open(tampered_file_name, 'wb') as f:\n",
    "    f.write(pwnd_pickle)"
   ]
  },
  {
   "cell_type": "markdown",
   "id": "47a115b6-827f-425b-ad3d-6a9ab383e2d3",
   "metadata": {},
   "source": [
    "As we can see below, this makes the verification fail with the following error:\n",
    "\n",
    "```\n",
    "Signature is invalid for input\n",
    "```"
   ]
  },
  {
   "cell_type": "code",
   "execution_count": null,
   "id": "4775c5f6-42e0-4ce6-b84c-9bed84b80d60",
   "metadata": {
    "tags": []
   },
   "outputs": [],
   "source": [
    "!sigstore verify identity \\\n",
    "    --bundle {tampered_file_name}.sigstore  \\\n",
    "    --cert-identity agm@seldon.io  \\\n",
    "    --cert-oidc-issuer https://accounts.google.com \\\n",
    "    --offline \\\n",
    "    {tampered_file_name}"
   ]
  },
  {
   "cell_type": "markdown",
   "id": "fbfe7a36-f89b-469e-af65-8ef18b8763f4",
   "metadata": {
    "tags": []
   },
   "source": [
    "## Verify Signature at Deployment time\n",
    "\n",
    "Now that we have signed our artefact and validated that it does its job, we will build a [MLServer runtime](https://mlserver.readthedocs.io/en/latest/) that handles the signature verification at model load time.\n",
    "\n",
    "MLServer greatly simplifies building a custom inference runtime to serve our models. In this case, we will extend the built-in Scikit-Learn runtime to also handle verification.\n",
    "For the latter, we will leverage the [Python API exposed by the `sigstore` package](https://sigstore.github.io/sigstore-python/sigstore.html).\n",
    "\n",
    "Note that this runtime is not production-ready, however it should be good to enough to showcase how signature verification could be enforced at serving time."
   ]
  },
  {
   "cell_type": "code",
   "execution_count": null,
   "id": "4e873cf0-b090-4be3-b8d9-94ad9a15b677",
   "metadata": {
    "tags": []
   },
   "outputs": [],
   "source": [
    "# %load ./runtime.py\n",
    "from mlserver import MLModel\n",
    "from mlserver.utils import get_model_uri\n",
    "from mlserver.errors import MLServerError\n",
    "from mlserver_sklearn.sklearn import SKLearnModel, WELLKNOWN_MODEL_FILENAMES\n",
    "\n",
    "from sigstore_protobuf_specs.dev.sigstore.bundle.v1 import Bundle\n",
    "from sigstore.verify import Verifier, VerificationMaterials\n",
    "from sigstore.verify.policy import Identity\n",
    "\n",
    "CERT_IDENTITY = \"agm@seldon.io\"\n",
    "CERT_OIDC_ISSUER = \"https://accounts.google.com\"\n",
    "\n",
    "class VerificationError(MLServerError):\n",
    "    def __init__(self, model_name: str, reason: str):\n",
    "        msg = f\"Invalid signature for model '{model_name}': {reason}.\"\n",
    "        super().__init__(msg)\n",
    "\n",
    "class SigstoreModel(SKLearnModel):\n",
    "\n",
    "    async def load(self):\n",
    "        model_uri = await get_model_uri(\n",
    "            self._settings, wellknown_filenames=WELLKNOWN_MODEL_FILENAMES\n",
    "        )\n",
    "        self.verify(model_uri)\n",
    "        return await super().load()\n",
    "\n",
    "    def _get_bundle(self, model_uri: str) -> Bundle:\n",
    "        bundle_path = f\"{model_uri}.sigstore\"\n",
    "        with open(bundle_path, 'r') as bundle_file:\n",
    "            return Bundle().from_json(bundle_file.read())\n",
    "\n",
    "    def _get_materials(self, model_uri: str) -> VerificationMaterials:\n",
    "        with open(model_uri, 'rb') as model_file:\n",
    "            bundle = self._get_bundle(model_uri)\n",
    "            return VerificationMaterials.from_bundle(\n",
    "                input_=model_file,\n",
    "                bundle=bundle,\n",
    "                offline=True\n",
    "            )\n",
    "\n",
    "    def verify(self, model_uri: str):\n",
    "        verifier = Verifier.production()\n",
    "        identity = Identity(\n",
    "            identity=CERT_IDENTITY,\n",
    "            issuer=CERT_OIDC_ISSUER,\n",
    "        )\n",
    "\n",
    "        materials = self._get_materials(model_uri)\n",
    "        result = verifier.verify(\n",
    "            materials,\n",
    "            identity\n",
    "        )\n",
    "\n",
    "        if not result.success:\n",
    "            raise VerificationError(self.name, result.reason)\n",
    "\n"
   ]
  },
  {
   "cell_type": "markdown",
   "id": "be18bbc3-da72-4155-8efc-735463dee656",
   "metadata": {},
   "source": [
    "Note that we will also add a small piece of config to MLServer to disable auto-loading all available models.\n",
    "That way we will be able to load them separately to assess whether the tampered model gets rejected."
   ]
  },
  {
   "cell_type": "code",
   "execution_count": null,
   "id": "bffa8640-1018-4d19-af3b-d2ad0d70c3c9",
   "metadata": {
    "tags": []
   },
   "outputs": [],
   "source": [
    "%%writefile models/settings.json\n",
    "{\n",
    "    \"load_models_at_startup\": false\n",
    "}"
   ]
  },
  {
   "cell_type": "markdown",
   "id": "efeb1a60-afe1-436f-9b5d-3acd8d56d652",
   "metadata": {},
   "source": [
    "With all in place, the next step will be to start MLServer on a separate terminal with:\n",
    "\n",
    "```bash\n",
    "mlserver start ./models\n",
    "```"
   ]
  },
  {
   "cell_type": "markdown",
   "id": "3b1b4d53-5d94-48b3-b5f1-c8cb2341d69b",
   "metadata": {
    "tags": []
   },
   "source": [
    "### List Available Models\n",
    "\n",
    "Now that MLServer is running on the background, we can send a request to list the available models.\n",
    "As you can see, MLServer finds the two artefacts that we created previously:\n",
    "\n",
    "- `good-model`: our original trained model, with the right signed artefact.\n",
    "- `naive-model`: the model we tampered, which will be loaded without signature verification.\n",
    "- `tampered-model`: the model we tampered, injecting malicious code into the Pickle."
   ]
  },
  {
   "cell_type": "code",
   "execution_count": null,
   "id": "41749bdd-17d3-47d6-858d-1faff18065d4",
   "metadata": {
    "tags": []
   },
   "outputs": [],
   "source": [
    "!curl -s -X POST -H 'Content-Type: application/json' localhost:8080/v2/repository/index -d '{}' | jq"
   ]
  },
  {
   "cell_type": "markdown",
   "id": "475f4262-9ff9-464a-9e27-059cbac0d8c2",
   "metadata": {
    "jp-MarkdownHeadingCollapsed": true,
    "tags": []
   },
   "source": [
    "### Load Good Model\n",
    "\n",
    "We will start by testing the model we originally trained and signed.\n",
    "As you can see below, the model gets loaded correctly - as expected."
   ]
  },
  {
   "cell_type": "code",
   "execution_count": null,
   "id": "6a018587-3c6e-44f3-a9ca-704a06276831",
   "metadata": {
    "tags": []
   },
   "outputs": [],
   "source": [
    "!curl -I -X POST localhost:8080/v2/repository/models/good-model/load "
   ]
  },
  {
   "cell_type": "markdown",
   "id": "6ffd60c0-80f0-409f-96b3-e4d13490bae8",
   "metadata": {},
   "source": [
    "### Load Naive Model\n",
    "\n",
    "We will now load the tampered model without verifying its signature.\n",
    "For this, we will just instruct MLServer to load the model with the base SKLearn runtime, which lacks the verification added by our custom runtime."
   ]
  },
  {
   "cell_type": "code",
   "execution_count": null,
   "id": "a51e7fcd-4c6b-4e14-b994-277137d78a2f",
   "metadata": {
    "tags": []
   },
   "outputs": [],
   "source": [
    "!curl -I -X POST localhost:8080/v2/repository/models/naive-model/load "
   ]
  },
  {
   "cell_type": "markdown",
   "id": "3c402e70-c157-4b04-887f-474f1eb9e696",
   "metadata": {},
   "source": [
    "As we can see, the model goes through as normal.\n",
    "However, if we inspect the folder where MLServer is running, we will be able to see that it the malicious code we injected previously run and exposed our environment variables in a `pwnd.txt` file:"
   ]
  },
  {
   "cell_type": "code",
   "execution_count": null,
   "id": "b80c99c3-61ce-4fdf-9ea1-f42205b9f8af",
   "metadata": {
    "tags": []
   },
   "outputs": [],
   "source": [
    "!cat pwnd.txt"
   ]
  },
  {
   "cell_type": "markdown",
   "id": "0b2aa1de-8abd-4592-adad-4599fc1e9724",
   "metadata": {},
   "source": [
    "### Load Tampered Model\n",
    "\n",
    "We will now try to load the tampered model which, as you below, will fail with the following error:\n",
    "\n",
    "```\n",
    "Signature is invalid for input\n",
    "```"
   ]
  },
  {
   "cell_type": "code",
   "execution_count": null,
   "id": "3e71b202-1392-4fc3-929b-4ef0c4777ca2",
   "metadata": {
    "tags": []
   },
   "outputs": [],
   "source": [
    "!rm pwnd.txt"
   ]
  },
  {
   "cell_type": "code",
   "execution_count": null,
   "id": "a34303df-faca-4ce9-9703-e6bd4407b05e",
   "metadata": {
    "tags": []
   },
   "outputs": [],
   "source": [
    "!curl -s -X POST localhost:8080/v2/repository/models/tampered-model/load | jq"
   ]
  },
  {
   "cell_type": "markdown",
   "id": "c2e63da8-558a-4dd8-a688-88be91231212",
   "metadata": {},
   "source": [
    "Thanks to the signature verification, we avoided to run the malicious code that we injected previously."
   ]
  },
  {
   "cell_type": "code",
   "execution_count": null,
   "id": "d2d0e1c1-171f-4841-9a8b-15f6d0e110a4",
   "metadata": {
    "tags": []
   },
   "outputs": [],
   "source": [
    "!ls pwnd.txt"
   ]
  }
 ],
 "metadata": {
  "kernelspec": {
   "display_name": "Python 3 (ipykernel)",
   "language": "python",
   "name": "python3"
  },
  "language_info": {
   "codemirror_mode": {
    "name": "ipython",
    "version": 3
   },
   "file_extension": ".py",
   "mimetype": "text/x-python",
   "name": "python",
   "nbconvert_exporter": "python",
   "pygments_lexer": "ipython3",
   "version": "3.9.8"
  }
 },
 "nbformat": 4,
 "nbformat_minor": 5
}
