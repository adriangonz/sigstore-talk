{
 "cells": [
  {
   "cell_type": "markdown",
   "id": "b23e7f79-36b4-45e3-90a9-f0124226b18a",
   "metadata": {},
   "source": [
    "# Sigstore Example\n",
    "\n",
    "This example is part of a talk in [Supply Chain Security for MLSecOps](https://docs.google.com/presentation/d/1O2JZHj2DzwzSbZZLqyPbUZ6QlMKf4V1QuRcq4ok9baI/edit). "
   ]
  },
  {
   "cell_type": "markdown",
   "id": "98098be0-4848-4dea-bbeb-401bd87e4963",
   "metadata": {},
   "source": [
    "## Training"
   ]
  },
  {
   "cell_type": "markdown",
   "id": "0fb1f1db-1059-4306-a659-8df6099974ee",
   "metadata": {},
   "source": [
    "The first step will be to train a simple `scikit-learn` model.\n",
    "For that, we will use the [MNIST example from the `scikit-learn` documentation](https://scikit-learn.org/stable/auto_examples/classification/plot_digits_classification.html) which trains an SVM model."
   ]
  },
  {
   "cell_type": "code",
   "execution_count": 9,
   "id": "81a39c4d-f316-45c1-9361-425dada5544a",
   "metadata": {
    "tags": []
   },
   "outputs": [
    {
     "data": {
      "text/html": [
       "<style>#sk-container-id-2 {color: black;background-color: white;}#sk-container-id-2 pre{padding: 0;}#sk-container-id-2 div.sk-toggleable {background-color: white;}#sk-container-id-2 label.sk-toggleable__label {cursor: pointer;display: block;width: 100%;margin-bottom: 0;padding: 0.3em;box-sizing: border-box;text-align: center;}#sk-container-id-2 label.sk-toggleable__label-arrow:before {content: \"▸\";float: left;margin-right: 0.25em;color: #696969;}#sk-container-id-2 label.sk-toggleable__label-arrow:hover:before {color: black;}#sk-container-id-2 div.sk-estimator:hover label.sk-toggleable__label-arrow:before {color: black;}#sk-container-id-2 div.sk-toggleable__content {max-height: 0;max-width: 0;overflow: hidden;text-align: left;background-color: #f0f8ff;}#sk-container-id-2 div.sk-toggleable__content pre {margin: 0.2em;color: black;border-radius: 0.25em;background-color: #f0f8ff;}#sk-container-id-2 input.sk-toggleable__control:checked~div.sk-toggleable__content {max-height: 200px;max-width: 100%;overflow: auto;}#sk-container-id-2 input.sk-toggleable__control:checked~label.sk-toggleable__label-arrow:before {content: \"▾\";}#sk-container-id-2 div.sk-estimator input.sk-toggleable__control:checked~label.sk-toggleable__label {background-color: #d4ebff;}#sk-container-id-2 div.sk-label input.sk-toggleable__control:checked~label.sk-toggleable__label {background-color: #d4ebff;}#sk-container-id-2 input.sk-hidden--visually {border: 0;clip: rect(1px 1px 1px 1px);clip: rect(1px, 1px, 1px, 1px);height: 1px;margin: -1px;overflow: hidden;padding: 0;position: absolute;width: 1px;}#sk-container-id-2 div.sk-estimator {font-family: monospace;background-color: #f0f8ff;border: 1px dotted black;border-radius: 0.25em;box-sizing: border-box;margin-bottom: 0.5em;}#sk-container-id-2 div.sk-estimator:hover {background-color: #d4ebff;}#sk-container-id-2 div.sk-parallel-item::after {content: \"\";width: 100%;border-bottom: 1px solid gray;flex-grow: 1;}#sk-container-id-2 div.sk-label:hover label.sk-toggleable__label {background-color: #d4ebff;}#sk-container-id-2 div.sk-serial::before {content: \"\";position: absolute;border-left: 1px solid gray;box-sizing: border-box;top: 0;bottom: 0;left: 50%;z-index: 0;}#sk-container-id-2 div.sk-serial {display: flex;flex-direction: column;align-items: center;background-color: white;padding-right: 0.2em;padding-left: 0.2em;position: relative;}#sk-container-id-2 div.sk-item {position: relative;z-index: 1;}#sk-container-id-2 div.sk-parallel {display: flex;align-items: stretch;justify-content: center;background-color: white;position: relative;}#sk-container-id-2 div.sk-item::before, #sk-container-id-2 div.sk-parallel-item::before {content: \"\";position: absolute;border-left: 1px solid gray;box-sizing: border-box;top: 0;bottom: 0;left: 50%;z-index: -1;}#sk-container-id-2 div.sk-parallel-item {display: flex;flex-direction: column;z-index: 1;position: relative;background-color: white;}#sk-container-id-2 div.sk-parallel-item:first-child::after {align-self: flex-end;width: 50%;}#sk-container-id-2 div.sk-parallel-item:last-child::after {align-self: flex-start;width: 50%;}#sk-container-id-2 div.sk-parallel-item:only-child::after {width: 0;}#sk-container-id-2 div.sk-dashed-wrapped {border: 1px dashed gray;margin: 0 0.4em 0.5em 0.4em;box-sizing: border-box;padding-bottom: 0.4em;background-color: white;}#sk-container-id-2 div.sk-label label {font-family: monospace;font-weight: bold;display: inline-block;line-height: 1.2em;}#sk-container-id-2 div.sk-label-container {text-align: center;}#sk-container-id-2 div.sk-container {/* jupyter's `normalize.less` sets `[hidden] { display: none; }` but bootstrap.min.css set `[hidden] { display: none !important; }` so we also need the `!important` here to be able to override the default hidden behavior on the sphinx rendered scikit-learn.org. See: https://github.com/scikit-learn/scikit-learn/issues/21755 */display: inline-block !important;position: relative;}#sk-container-id-2 div.sk-text-repr-fallback {display: none;}</style><div id=\"sk-container-id-2\" class=\"sk-top-container\"><div class=\"sk-text-repr-fallback\"><pre>SVC(gamma=0.001)</pre><b>In a Jupyter environment, please rerun this cell to show the HTML representation or trust the notebook. <br />On GitHub, the HTML representation is unable to render, please try loading this page with nbviewer.org.</b></div><div class=\"sk-container\" hidden><div class=\"sk-item\"><div class=\"sk-estimator sk-toggleable\"><input class=\"sk-toggleable__control sk-hidden--visually\" id=\"sk-estimator-id-2\" type=\"checkbox\" checked><label for=\"sk-estimator-id-2\" class=\"sk-toggleable__label sk-toggleable__label-arrow\">SVC</label><div class=\"sk-toggleable__content\"><pre>SVC(gamma=0.001)</pre></div></div></div></div></div>"
      ],
      "text/plain": [
       "SVC(gamma=0.001)"
      ]
     },
     "execution_count": 9,
     "metadata": {},
     "output_type": "execute_result"
    }
   ],
   "source": [
    "# Original source code and more details can be found in:\n",
    "# https://scikit-learn.org/stable/auto_examples/classification/plot_digits_classification.html\n",
    "\n",
    "# Import datasets, classifiers and performance metrics\n",
    "from sklearn import datasets, svm, metrics\n",
    "from sklearn.model_selection import train_test_split\n",
    "\n",
    "# The digits dataset\n",
    "digits = datasets.load_digits()\n",
    "\n",
    "# To apply a classifier on this data, we need to flatten the image, to\n",
    "# turn the data in a (samples, feature) matrix:\n",
    "n_samples = len(digits.images)\n",
    "data = digits.images.reshape((n_samples, -1))\n",
    "\n",
    "# Create a classifier: a support vector classifier\n",
    "classifier = svm.SVC(gamma=0.001)\n",
    "\n",
    "# Split data into train and test subsets\n",
    "X_train, X_test, y_train, y_test = train_test_split(\n",
    "    data, digits.target, test_size=0.5, shuffle=False)\n",
    "\n",
    "# We learn the digits on the first half of the digits\n",
    "classifier.fit(X_train, y_train)"
   ]
  },
  {
   "cell_type": "markdown",
   "id": "c613dd50-7d9f-41b3-8465-16c27a7566c7",
   "metadata": {},
   "source": [
    "### Saving our Trained Model"
   ]
  },
  {
   "cell_type": "markdown",
   "id": "46650922-cb72-4aae-a6d6-bda9bb059362",
   "metadata": {},
   "source": [
    "To save our trained model, we will serialise it using `joblib`.\n",
    "While this is not a perfect approach, it's currently the recommended method to persist models to disk in the [`scikit-learn` documentation](https://scikit-learn.org/stable/modules/model_persistence.html).\n",
    "\n",
    "Our model will be persisted as a file named `mnist-svm.joblib`"
   ]
  },
  {
   "cell_type": "code",
   "execution_count": 11,
   "id": "d82e867d-1d34-4f8d-b569-bcbd980c5475",
   "metadata": {
    "tags": []
   },
   "outputs": [
    {
     "data": {
      "text/plain": [
       "['./models/good-model/model.joblib']"
      ]
     },
     "execution_count": 11,
     "metadata": {},
     "output_type": "execute_result"
    }
   ],
   "source": [
    "import joblib\n",
    "\n",
    "model_file_name = \"./models/good-model/model.joblib\"\n",
    "joblib.dump(classifier, model_file_name)"
   ]
  },
  {
   "cell_type": "markdown",
   "id": "63d31c63-35a9-466e-a3e2-0faa52653e3a",
   "metadata": {},
   "source": [
    "## Signing our Model"
   ]
  },
  {
   "cell_type": "code",
   "execution_count": 12,
   "id": "7a11db4d-7752-4cbe-bded-f9ee2646355f",
   "metadata": {
    "tags": []
   },
   "outputs": [
    {
     "name": "stdout",
     "output_type": "stream",
     "text": [
      "Waiting for browser interaction...\n",
      "Using ephemeral certificate:\n",
      "-----BEGIN CERTIFICATE-----\n",
      "MIICtjCCAjygAwIBAgIUfka2M4W8El54kfsv4+TxiZJ4GMowCgYIKoZIzj0EAwMw\n",
      "NzEVMBMGA1UEChMMc2lnc3RvcmUuZGV2MR4wHAYDVQQDExVzaWdzdG9yZS1pbnRl\n",
      "cm1lZGlhdGUwHhcNMjMwMjA4MTgwNzIyWhcNMjMwMjA4MTgxNzIyWjAAMHYwEAYH\n",
      "KoZIzj0CAQYFK4EEACIDYgAEX7fNuSQyKt1rv8ME0X2IkEWHwIBROfWDhSd2c3z7\n",
      "tlUJ/9rKWc7ja3JJWB/RBqggDi0bjikI3cVGznvv8myKukYNxu5MdS5c5B+WSLLE\n",
      "g8VWNDzpfasb9nWLGEeKmxCoo4IBPjCCATowDgYDVR0PAQH/BAQDAgeAMBMGA1Ud\n",
      "JQQMMAoGCCsGAQUFBwMDMB0GA1UdDgQWBBRtLAoYla3XppWK2d7SMCEbVgbNDTAf\n",
      "BgNVHSMEGDAWgBTf0+nPViQRlvmo2OkoVaLGLhhkPzAbBgNVHREBAf8EETAPgQ1h\n",
      "Z21Ac2VsZG9uLmlvMCkGCisGAQQBg78wAQEEG2h0dHBzOi8vYWNjb3VudHMuZ29v\n",
      "Z2xlLmNvbTCBigYKKwYBBAHWeQIEAgR8BHoAeAB2AN09MGrGxxEyYxkeHJlnNwKi\n",
      "Sl643jyt/4eKcoAvKe6OAAABhjI19bgAAAQDAEcwRQIhAI5qAxHrbLqSbmBRyXH1\n",
      "U+5/jcwiPKicoisREhqSZySkAiB6VprSmquJLDBR89Idgz3EDjIVB9+VJLIW1P5e\n",
      "jIsVNTAKBggqhkjOPQQDAwNoADBlAjAgkVdiSwNVIKNuOOOOY+EsmgkHAySNDFXk\n",
      "VyHiK9mJ/7Njdb/agJu+gGVK6Oba/uMCMQDPQeo7HQmFbjIaey3NKapXQJ3NgI7y\n",
      "SnrHayzApQcYKDNMclUUtKvqObTryAjtVDE=\n",
      "-----END CERTIFICATE-----\n",
      "\n",
      "Transparency log entry created at index: 12913644\n",
      "Signature written to models/good-model/model.joblib.sig\n",
      "Certificate written to models/good-model/model.joblib.crt\n",
      "Sigstore bundle written to models/good-model/model.joblib.sigstore\n"
     ]
    }
   ],
   "source": [
    "!sigstore sign --overwrite {model_file_name}"
   ]
  },
  {
   "cell_type": "code",
   "execution_count": 15,
   "id": "d05217c4-a6d8-406a-bdc7-d80ad55b70e4",
   "metadata": {
    "tags": []
   },
   "outputs": [
    {
     "name": "stdout",
     "output_type": "stream",
     "text": [
      "./models/good-model/model.joblib      ./models/good-model/model.joblib.sig\n",
      "./models/good-model/model.joblib.crt  ./models/good-model/model.joblib.sigstore\n"
     ]
    }
   ],
   "source": [
    "%ls ./models/good-model/model.joblib*"
   ]
  },
  {
   "cell_type": "markdown",
   "id": "2691c9c3-cf1d-44b7-9f69-d2f338e5e056",
   "metadata": {},
   "source": [
    "### Verifying Model's Signature"
   ]
  },
  {
   "cell_type": "code",
   "execution_count": 17,
   "id": "1d6b1f3b-6b10-48c6-8c94-29e218f46511",
   "metadata": {
    "tags": []
   },
   "outputs": [
    {
     "name": "stdout",
     "output_type": "stream",
     "text": [
      "OK: models/good-model/model.joblib\n"
     ]
    }
   ],
   "source": [
    "!sigstore verify identity \\\n",
    "    --bundle {model_file_name}.sigstore  \\\n",
    "    --cert-identity agm@seldon.io  \\\n",
    "    --cert-oidc-issuer https://accounts.google.com \\\n",
    "    --offline \\\n",
    "    {model_file_name}"
   ]
  },
  {
   "cell_type": "markdown",
   "id": "e3845066-1f55-4a15-a14e-61ec9a4668b0",
   "metadata": {},
   "source": [
    "### Tampering our Trained Model"
   ]
  },
  {
   "cell_type": "code",
   "execution_count": 22,
   "id": "a84c32fe-d7fa-45f5-abd3-5b5e1e9ce6af",
   "metadata": {
    "tags": []
   },
   "outputs": [],
   "source": [
    "!cp ./models/good-model/model.joblib* ./models/tampered-model/"
   ]
  },
  {
   "cell_type": "code",
   "execution_count": 23,
   "id": "05c4a572-2026-4bdb-bab3-445f5f0e6f72",
   "metadata": {
    "tags": []
   },
   "outputs": [],
   "source": [
    "tampered_file_name = \"./models/tampered-model/model.joblib\"\n",
    "pwnd_pickle = b'\\x80\\x04\\x95)\\x00\\x00\\x00\\x00\\x00\\x00\\x00\\x8c\\x05posix\\x94\\x8c\\x06system\\x94\\x93\\x94\\x8c\\x0eenv > pwnd.txt\\x94\\x85\\x94R\\x94.'\n",
    "with open(tampered_file_name, 'wb') as f:\n",
    "    f.write(pwnd_pickle)"
   ]
  },
  {
   "cell_type": "code",
   "execution_count": 24,
   "id": "4775c5f6-42e0-4ce6-b84c-9bed84b80d60",
   "metadata": {
    "tags": []
   },
   "outputs": [
    {
     "name": "stdout",
     "output_type": "stream",
     "text": [
      "FAIL: models/tampered-model/model.joblib\n",
      "Failure reason: Signature is invalid for input\n"
     ]
    }
   ],
   "source": [
    "!sigstore verify identity \\\n",
    "    --bundle {tampered_file_name}.sigstore  \\\n",
    "    --cert-identity agm@seldon.io  \\\n",
    "    --cert-oidc-issuer https://accounts.google.com \\\n",
    "    --offline \\\n",
    "    {tampered_file_name}"
   ]
  },
  {
   "cell_type": "markdown",
   "id": "fbfe7a36-f89b-469e-af65-8ef18b8763f4",
   "metadata": {},
   "source": [
    "## Verify Signature at Deployment time"
   ]
  },
  {
   "cell_type": "code",
   "execution_count": 44,
   "id": "4e873cf0-b090-4be3-b8d9-94ad9a15b677",
   "metadata": {
    "jupyter": {
     "source_hidden": true
    },
    "tags": []
   },
   "outputs": [],
   "source": [
    "# %load ./runtime.py\n",
    "from mlserver import MLModel\n",
    "from mlserver.utils import get_model_uri\n",
    "from mlserver.errors import MLServerError\n",
    "from mlserver_sklearn.sklearn import SKLearnModel, WELLKNOWN_MODEL_FILENAMES\n",
    "\n",
    "from sigstore_protobuf_specs.dev.sigstore.bundle.v1 import Bundle\n",
    "from sigstore.verify import Verifier, VerificationMaterials\n",
    "from sigstore.verify.policy import Identity\n",
    "\n",
    "CERT_IDENTITY = \"agm@seldon.io\"\n",
    "CERT_OIDC_ISSUER = \"https://accounts.google.com\"\n",
    "\n",
    "class VerificationError(MLServerError):\n",
    "    def __init__(self, model_name: str, reason: str):\n",
    "        msg = f\"Invalid signature for model '{model_name}': {reason}.\"\n",
    "        super().__init__(msg)\n",
    "\n",
    "class SigstoreModel(SKLearnModel):\n",
    "\n",
    "    async def load(self):\n",
    "        model_uri = await get_model_uri(\n",
    "            self._settings, wellknown_filenames=WELLKNOWN_MODEL_FILENAMES\n",
    "        )\n",
    "        self.verify(model_uri)\n",
    "        return await super().load()\n",
    "\n",
    "    def _get_bundle(self, model_uri: str) -> Bundle:\n",
    "        bundle_path = f\"{model_uri}.sigstore\"\n",
    "        with open(bundle_path, 'r') as bundle_file:\n",
    "            return Bundle().from_json(bundle_file.read())\n",
    "\n",
    "    def _get_materials(self, model_uri: str) -> VerificationMaterials:\n",
    "        with open(model_uri, 'rb') as model_file:\n",
    "            bundle = self._get_bundle(model_uri)\n",
    "            return VerificationMaterials.from_bundle(\n",
    "                input_=model_file,\n",
    "                bundle=bundle,\n",
    "                offline=True\n",
    "            )\n",
    "\n",
    "    def verify(self, model_uri: str):\n",
    "        verifier = Verifier.production()\n",
    "        identity = Identity(\n",
    "            identity=CERT_IDENTITY,\n",
    "            issuer=CERT_OIDC_ISSUER,\n",
    "        )\n",
    "\n",
    "        materials = self._get_materials(model_uri)\n",
    "        result = verifier.verify(\n",
    "            materials,\n",
    "            identity\n",
    "        )\n",
    "\n",
    "        if not result.success:\n",
    "            raise VerificationError(self.name, result.reason)\n",
    "\n"
   ]
  },
  {
   "cell_type": "code",
   "execution_count": 43,
   "id": "bffa8640-1018-4d19-af3b-d2ad0d70c3c9",
   "metadata": {
    "tags": []
   },
   "outputs": [
    {
     "name": "stdout",
     "output_type": "stream",
     "text": [
      "Overwriting models/settings.json\n"
     ]
    }
   ],
   "source": [
    "%%writefile models/settings.json\n",
    "{\n",
    "    \"load_models_at_startup\": false\n",
    "}"
   ]
  },
  {
   "cell_type": "markdown",
   "id": "efeb1a60-afe1-436f-9b5d-3acd8d56d652",
   "metadata": {},
   "source": [
    "Start MLServer on a separate terminal with:\n",
    "\n",
    "```bash\n",
    "mlserver start ./models\n",
    "```"
   ]
  },
  {
   "cell_type": "markdown",
   "id": "3b1b4d53-5d94-48b3-b5f1-c8cb2341d69b",
   "metadata": {},
   "source": [
    "### List Available Models"
   ]
  },
  {
   "cell_type": "code",
   "execution_count": 39,
   "id": "41749bdd-17d3-47d6-858d-1faff18065d4",
   "metadata": {
    "tags": []
   },
   "outputs": [
    {
     "name": "stdout",
     "output_type": "stream",
     "text": [
      "\u001b[1;39m[\n",
      "  \u001b[1;39m{\n",
      "    \u001b[0m\u001b[34;1m\"name\"\u001b[0m\u001b[1;39m: \u001b[0m\u001b[0;32m\"tampered-model\"\u001b[0m\u001b[1;39m,\n",
      "    \u001b[0m\u001b[34;1m\"state\"\u001b[0m\u001b[1;39m: \u001b[0m\u001b[0;32m\"UNAVAILABLE\"\u001b[0m\u001b[1;39m,\n",
      "    \u001b[0m\u001b[34;1m\"reason\"\u001b[0m\u001b[1;39m: \u001b[0m\u001b[0;32m\"\"\u001b[0m\u001b[1;39m\n",
      "  \u001b[1;39m}\u001b[0m\u001b[1;39m,\n",
      "  \u001b[1;39m{\n",
      "    \u001b[0m\u001b[34;1m\"name\"\u001b[0m\u001b[1;39m: \u001b[0m\u001b[0;32m\"good-model\"\u001b[0m\u001b[1;39m,\n",
      "    \u001b[0m\u001b[34;1m\"state\"\u001b[0m\u001b[1;39m: \u001b[0m\u001b[0;32m\"UNAVAILABLE\"\u001b[0m\u001b[1;39m,\n",
      "    \u001b[0m\u001b[34;1m\"reason\"\u001b[0m\u001b[1;39m: \u001b[0m\u001b[0;32m\"\"\u001b[0m\u001b[1;39m\n",
      "  \u001b[1;39m}\u001b[0m\u001b[1;39m\n",
      "\u001b[1;39m]\u001b[0m\n"
     ]
    }
   ],
   "source": [
    "!curl -s -X POST -H 'Content-Type: application/json' localhost:8080/v2/repository/index -d '{}' | jq"
   ]
  },
  {
   "cell_type": "markdown",
   "id": "475f4262-9ff9-464a-9e27-059cbac0d8c2",
   "metadata": {},
   "source": [
    "### Load Good Model"
   ]
  },
  {
   "cell_type": "code",
   "execution_count": 41,
   "id": "6a018587-3c6e-44f3-a9ca-704a06276831",
   "metadata": {
    "tags": []
   },
   "outputs": [
    {
     "name": "stdout",
     "output_type": "stream",
     "text": [
      "HTTP/1.1 200 OK\n",
      "\u001b[1mdate\u001b[0m: Wed, 08 Feb 2023 18:36:21 GMT\n",
      "\u001b[1mserver\u001b[0m: uvicorn\n",
      "\u001b[1mcontent-length\u001b[0m: 0\n",
      "\n"
     ]
    }
   ],
   "source": [
    "!curl -I -X POST localhost:8080/v2/repository/models/good-model/load "
   ]
  },
  {
   "cell_type": "markdown",
   "id": "0b2aa1de-8abd-4592-adad-4599fc1e9724",
   "metadata": {},
   "source": [
    "### Load Tampered Model"
   ]
  },
  {
   "cell_type": "code",
   "execution_count": 42,
   "id": "a34303df-faca-4ce9-9703-e6bd4407b05e",
   "metadata": {
    "tags": []
   },
   "outputs": [
    {
     "name": "stdout",
     "output_type": "stream",
     "text": [
      "\u001b[1;39m{\n",
      "  \u001b[0m\u001b[34;1m\"error\"\u001b[0m\u001b[1;39m: \u001b[0m\u001b[0;32m\"runtime.VerificationError: Invalid signature for model 'tampered-model': Signature is invalid for input.\"\u001b[0m\u001b[1;39m\n",
      "\u001b[1;39m}\u001b[0m\n"
     ]
    }
   ],
   "source": [
    "!curl -s -X POST localhost:8080/v2/repository/models/tampered-model/load | jq"
   ]
  },
  {
   "cell_type": "code",
   "execution_count": null,
   "id": "b3c21bd9-f182-402f-a449-6e74e4620b08",
   "metadata": {},
   "outputs": [],
   "source": []
  }
 ],
 "metadata": {
  "kernelspec": {
   "display_name": "Python 3 (ipykernel)",
   "language": "python",
   "name": "python3"
  },
  "language_info": {
   "codemirror_mode": {
    "name": "ipython",
    "version": 3
   },
   "file_extension": ".py",
   "mimetype": "text/x-python",
   "name": "python",
   "nbconvert_exporter": "python",
   "pygments_lexer": "ipython3",
   "version": "3.9.8"
  }
 },
 "nbformat": 4,
 "nbformat_minor": 5
}
